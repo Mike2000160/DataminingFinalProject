{
  "nbformat": 4,
  "nbformat_minor": 0,
  "metadata": {
    "colab": {
      "provenance": [],
      "authorship_tag": "ABX9TyNEz78jxT5jmgWkFPsKIaxO",
      "include_colab_link": true
    },
    "kernelspec": {
      "name": "python3",
      "display_name": "Python 3"
    },
    "language_info": {
      "name": "python"
    }
  },
  "cells": [
    {
      "cell_type": "markdown",
      "metadata": {
        "id": "view-in-github",
        "colab_type": "text"
      },
      "source": [
        "<a href=\"https://colab.research.google.com/github/Mike2000160/DataminingFinalProject/blob/finalproject/Datamining_Project.ipynb\" target=\"_parent\"><img src=\"https://colab.research.google.com/assets/colab-badge.svg\" alt=\"Open In Colab\"/></a>"
      ]
    },
    {
      "cell_type": "code",
      "execution_count": null,
      "metadata": {
        "id": "-f-mWQpY8VeR"
      },
      "outputs": [],
      "source": [
        "import csv\n",
        "from google.colab import files\n",
        "from functools import reduce"
      ]
    },
    {
      "cell_type": "code",
      "source": [
        "uploaded = files.upload()"
      ],
      "metadata": {
        "colab": {
          "base_uri": "https://localhost:8080/",
          "height": 74
        },
        "id": "ubrmwzup8zHr",
        "outputId": "eeeecbc3-18b0-4745-c087-7d42a01dc4fb"
      },
      "execution_count": null,
      "outputs": [
        {
          "output_type": "display_data",
          "data": {
            "text/plain": [
              "<IPython.core.display.HTML object>"
            ],
            "text/html": [
              "\n",
              "     <input type=\"file\" id=\"files-400d9c17-8ead-4e14-97ea-6ca4734ed9c7\" name=\"files[]\" multiple disabled\n",
              "        style=\"border:none\" />\n",
              "     <output id=\"result-400d9c17-8ead-4e14-97ea-6ca4734ed9c7\">\n",
              "      Upload widget is only available when the cell has been executed in the\n",
              "      current browser session. Please rerun this cell to enable.\n",
              "      </output>\n",
              "      <script>// Copyright 2017 Google LLC\n",
              "//\n",
              "// Licensed under the Apache License, Version 2.0 (the \"License\");\n",
              "// you may not use this file except in compliance with the License.\n",
              "// You may obtain a copy of the License at\n",
              "//\n",
              "//      http://www.apache.org/licenses/LICENSE-2.0\n",
              "//\n",
              "// Unless required by applicable law or agreed to in writing, software\n",
              "// distributed under the License is distributed on an \"AS IS\" BASIS,\n",
              "// WITHOUT WARRANTIES OR CONDITIONS OF ANY KIND, either express or implied.\n",
              "// See the License for the specific language governing permissions and\n",
              "// limitations under the License.\n",
              "\n",
              "/**\n",
              " * @fileoverview Helpers for google.colab Python module.\n",
              " */\n",
              "(function(scope) {\n",
              "function span(text, styleAttributes = {}) {\n",
              "  const element = document.createElement('span');\n",
              "  element.textContent = text;\n",
              "  for (const key of Object.keys(styleAttributes)) {\n",
              "    element.style[key] = styleAttributes[key];\n",
              "  }\n",
              "  return element;\n",
              "}\n",
              "\n",
              "// Max number of bytes which will be uploaded at a time.\n",
              "const MAX_PAYLOAD_SIZE = 100 * 1024;\n",
              "\n",
              "function _uploadFiles(inputId, outputId) {\n",
              "  const steps = uploadFilesStep(inputId, outputId);\n",
              "  const outputElement = document.getElementById(outputId);\n",
              "  // Cache steps on the outputElement to make it available for the next call\n",
              "  // to uploadFilesContinue from Python.\n",
              "  outputElement.steps = steps;\n",
              "\n",
              "  return _uploadFilesContinue(outputId);\n",
              "}\n",
              "\n",
              "// This is roughly an async generator (not supported in the browser yet),\n",
              "// where there are multiple asynchronous steps and the Python side is going\n",
              "// to poll for completion of each step.\n",
              "// This uses a Promise to block the python side on completion of each step,\n",
              "// then passes the result of the previous step as the input to the next step.\n",
              "function _uploadFilesContinue(outputId) {\n",
              "  const outputElement = document.getElementById(outputId);\n",
              "  const steps = outputElement.steps;\n",
              "\n",
              "  const next = steps.next(outputElement.lastPromiseValue);\n",
              "  return Promise.resolve(next.value.promise).then((value) => {\n",
              "    // Cache the last promise value to make it available to the next\n",
              "    // step of the generator.\n",
              "    outputElement.lastPromiseValue = value;\n",
              "    return next.value.response;\n",
              "  });\n",
              "}\n",
              "\n",
              "/**\n",
              " * Generator function which is called between each async step of the upload\n",
              " * process.\n",
              " * @param {string} inputId Element ID of the input file picker element.\n",
              " * @param {string} outputId Element ID of the output display.\n",
              " * @return {!Iterable<!Object>} Iterable of next steps.\n",
              " */\n",
              "function* uploadFilesStep(inputId, outputId) {\n",
              "  const inputElement = document.getElementById(inputId);\n",
              "  inputElement.disabled = false;\n",
              "\n",
              "  const outputElement = document.getElementById(outputId);\n",
              "  outputElement.innerHTML = '';\n",
              "\n",
              "  const pickedPromise = new Promise((resolve) => {\n",
              "    inputElement.addEventListener('change', (e) => {\n",
              "      resolve(e.target.files);\n",
              "    });\n",
              "  });\n",
              "\n",
              "  const cancel = document.createElement('button');\n",
              "  inputElement.parentElement.appendChild(cancel);\n",
              "  cancel.textContent = 'Cancel upload';\n",
              "  const cancelPromise = new Promise((resolve) => {\n",
              "    cancel.onclick = () => {\n",
              "      resolve(null);\n",
              "    };\n",
              "  });\n",
              "\n",
              "  // Wait for the user to pick the files.\n",
              "  const files = yield {\n",
              "    promise: Promise.race([pickedPromise, cancelPromise]),\n",
              "    response: {\n",
              "      action: 'starting',\n",
              "    }\n",
              "  };\n",
              "\n",
              "  cancel.remove();\n",
              "\n",
              "  // Disable the input element since further picks are not allowed.\n",
              "  inputElement.disabled = true;\n",
              "\n",
              "  if (!files) {\n",
              "    return {\n",
              "      response: {\n",
              "        action: 'complete',\n",
              "      }\n",
              "    };\n",
              "  }\n",
              "\n",
              "  for (const file of files) {\n",
              "    const li = document.createElement('li');\n",
              "    li.append(span(file.name, {fontWeight: 'bold'}));\n",
              "    li.append(span(\n",
              "        `(${file.type || 'n/a'}) - ${file.size} bytes, ` +\n",
              "        `last modified: ${\n",
              "            file.lastModifiedDate ? file.lastModifiedDate.toLocaleDateString() :\n",
              "                                    'n/a'} - `));\n",
              "    const percent = span('0% done');\n",
              "    li.appendChild(percent);\n",
              "\n",
              "    outputElement.appendChild(li);\n",
              "\n",
              "    const fileDataPromise = new Promise((resolve) => {\n",
              "      const reader = new FileReader();\n",
              "      reader.onload = (e) => {\n",
              "        resolve(e.target.result);\n",
              "      };\n",
              "      reader.readAsArrayBuffer(file);\n",
              "    });\n",
              "    // Wait for the data to be ready.\n",
              "    let fileData = yield {\n",
              "      promise: fileDataPromise,\n",
              "      response: {\n",
              "        action: 'continue',\n",
              "      }\n",
              "    };\n",
              "\n",
              "    // Use a chunked sending to avoid message size limits. See b/62115660.\n",
              "    let position = 0;\n",
              "    do {\n",
              "      const length = Math.min(fileData.byteLength - position, MAX_PAYLOAD_SIZE);\n",
              "      const chunk = new Uint8Array(fileData, position, length);\n",
              "      position += length;\n",
              "\n",
              "      const base64 = btoa(String.fromCharCode.apply(null, chunk));\n",
              "      yield {\n",
              "        response: {\n",
              "          action: 'append',\n",
              "          file: file.name,\n",
              "          data: base64,\n",
              "        },\n",
              "      };\n",
              "\n",
              "      let percentDone = fileData.byteLength === 0 ?\n",
              "          100 :\n",
              "          Math.round((position / fileData.byteLength) * 100);\n",
              "      percent.textContent = `${percentDone}% done`;\n",
              "\n",
              "    } while (position < fileData.byteLength);\n",
              "  }\n",
              "\n",
              "  // All done.\n",
              "  yield {\n",
              "    response: {\n",
              "      action: 'complete',\n",
              "    }\n",
              "  };\n",
              "}\n",
              "\n",
              "scope.google = scope.google || {};\n",
              "scope.google.colab = scope.google.colab || {};\n",
              "scope.google.colab._files = {\n",
              "  _uploadFiles,\n",
              "  _uploadFilesContinue,\n",
              "};\n",
              "})(self);\n",
              "</script> "
            ]
          },
          "metadata": {}
        },
        {
          "output_type": "stream",
          "name": "stdout",
          "text": [
            "Saving Sep-29-2022_500matches.csv to Sep-29-2022_500matches.csv\n"
          ]
        }
      ]
    },
    {
      "cell_type": "code",
      "source": [
        "champion = []\n",
        "with open('Sep-29-2022_500matches.csv', 'r') as csv_file:\n",
        "        csv_reader = csv.reader(csv_file)\n",
        "\n",
        "        for line in csv_reader:\n",
        "            if line[8] != \"championName\":\n",
        "                champion.append(line[8])"
      ],
      "metadata": {
        "id": "-LFHM6HhSMlD"
      },
      "execution_count": null,
      "outputs": []
    },
    {
      "cell_type": "code",
      "source": [
        "def groupByKey(data):\n",
        "    result = dict()\n",
        "    for key, value in data:\n",
        "        if key in result:\n",
        "            result[key].append(value)\n",
        "        else:\n",
        "            result[key] = [value]\n",
        "    return result\n",
        "\n",
        "def reduceByKey(f, data):\n",
        "  key_values = groupByKey(data)\n",
        "  multvalues = []\n",
        "  for value in key_values:\n",
        "      multvalues.append(value)\n",
        "      multvalues.append(len(key_values[value]))\n",
        "  return map(lambda key: (key, reduce(lambda key_values, f: multvalues[multvalues.index(key) + 1], key_values[key])),\n",
        "             key_values)"
      ],
      "metadata": {
        "id": "MkXcRzYb85z0"
      },
      "execution_count": null,
      "outputs": []
    },
    {
      "cell_type": "code",
      "source": [
        "data = map(lambda x: (x, 1), champion)"
      ],
      "metadata": {
        "id": "IvsTPw8pRrxs"
      },
      "execution_count": null,
      "outputs": []
    },
    {
      "cell_type": "code",
      "source": [
        "x = list(reduceByKey(lambda x: x, data))\n",
        "x.sort(key=lambda y: y[1], reverse=True)\n",
        "print(x)"
      ],
      "metadata": {
        "colab": {
          "base_uri": "https://localhost:8080/"
        },
        "id": "TPI0YYxXWfci",
        "outputId": "21308065-93e1-49cc-ebe5-696f8ca00fae"
      },
      "execution_count": null,
      "outputs": [
        {
          "output_type": "stream",
          "name": "stdout",
          "text": [
            "[('Lux', 111), ('Caitlyn', 95), ('Ashe', 93), ('Ezreal', 92), ('Jhin', 86), ('MissFortune', 75), ('Vayne', 72), ('Yasuo', 71), ('Morgana', 70), ('Ekko', 66), ('Amumu', 65), ('Kayn', 64), ('Graves', 62), ('Teemo', 62), ('Sett', 60), ('Lucian', 59), ('Senna', 59), ('Yone', 58), ('Leona', 57), ('Akshan', 57), ('Brand', 56), ('MasterYi', 55), ('Tristana', 53), ('Mordekaiser', 53), ('Thresh', 52), ('Trundle', 51), ('Jax', 51), ('Garen', 50), ('Viego', 47), ('Shaco', 47), ('JarvanIV', 47), ('Pyke', 47), ('Kayle', 46), ('Warwick', 46), ('Yuumi', 46), ('LeeSin', 46), ('Nautilus', 45), ('Jinx', 45), ('Irelia', 44), ('Zed', 43), ('Diana', 43), ('Twitch', 42), ('Khazix', 42), ('Lulu', 42), ('Zyra', 41), ('Xerath', 40), ('Nocturne', 39), ('Leblanc', 39), ('Ziggs', 39), ('Darius', 38), ('Samira', 38), ('Nami', 37), ('Kaisa', 37), ('Varus', 37), ('Seraphine', 37), ('Malzahar', 36), ('Veigar', 36), ('Malphite', 36), ('Volibear', 34), ('Nasus', 33), ('Aphelios', 33), ('Ryze', 33), ('Sylas', 32), ('Tryndamere', 32), ('Gangplank', 32), ('XinZhao', 32), ('Sona', 31), ('Ahri', 31), ('Annie', 31), ('Swain', 30), ('Sivir', 30), ('Urgot', 30), ('Blitzcrank', 29), ('Fiora', 29), ('Soraka', 29), ('Riven', 28), ('TahmKench', 28), ('Draven', 28), ('DrMundo', 28), ('MonkeyKing', 28), ('Vi', 28), ('Fizz', 27), ('Camille', 27), ('Katarina', 27), ('Vladimir', 25), ('Karma', 25), ('Anivia', 25), ('Kindred', 24), ('Galio', 24), ('TwistedFate', 24), ('Renekton', 23), ('Lillia', 23), ('Rengar', 23), ('Evelynn', 23), ('Xayah', 22), ('Zilean', 22), ('FiddleSticks', 21), ('Shen', 21), ('Illaoi', 21), ('Akali', 21), ('Nidalee', 21), ('Talon', 21), ('Pantheon', 21), ('Orianna', 21), ('Nunu', 20), ('Maokai', 20), ('Jayce', 20), ('Sion', 20), ('Heimerdinger', 20), ('Velkoz', 20), ('Kennen', 19), ('Yorick', 19), ('Hecarim', 19), ('Aatrox', 19), ('Shyvana', 19), ('Chogath', 18), ('Qiyana', 18), ('Neeko', 17), ('KogMaw', 15), ('Cassiopeia', 15), ('Bard', 14), ('Zac', 14), ('Gwen', 14), ('Kassadin', 14), ('Alistar', 14), ('Olaf', 14), ('Janna', 13), ('Syndra', 13), ('Ornn', 13), ('Sejuani', 13), ('Udyr', 12), ('Braum', 12), ('Poppy', 12), ('Quinn', 12), ('Rakan', 12), ('Singed', 12), ('Kled', 12), ('Gnar', 11), ('Viktor', 11), ('RekSai', 10), ('Taric', 10), ('Zoe', 10), ('Lissandra', 9), ('Corki', 9), ('Rell', 9), ('Karthus', 8), ('Rammus', 8), ('Skarner', 7), ('Taliyah', 7), ('Gragas', 7), ('Azir', 7), ('Ivern', 6), ('Kalista', 6), ('Elise', 6), ('Rumble', 5), ('AurelionSol', 3)]\n"
          ]
        }
      ]
    }
  ]
}